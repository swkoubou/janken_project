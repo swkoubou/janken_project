{
 "cells": [
  {
   "cell_type": "code",
   "execution_count": 1,
   "id": "3d579ca1-0f5c-40e7-9e6a-0ab726f1547c",
   "metadata": {},
   "outputs": [
    {
     "name": "stdout",
     "output_type": "stream",
     "text": [
      "モデルの正解率: 0.75\n",
      "モデルを保存しました。\n"
     ]
    }
   ],
   "source": [
    "import pandas as pd\n",
    "from sklearn.model_selection import train_test_split\n",
    "from sklearn.ensemble import RandomForestClassifier\n",
    "from sklearn.metrics import accuracy_score\n",
    "import numpy as np\n",
    "import joblib\n",
    "\n",
    "# CSVファイルのパス\n",
    "csv_file = 'hand_landmarks.csv'  # 実際のファイル名に置き換えてください\n",
    "\n",
    "# CSVファイルを読み込む\n",
    "df = pd.read_csv(csv_file)\n",
    "\n",
    "# ラベルと特徴量を分離\n",
    "X = df.iloc[:, 1:]  # 最初の列（label）以外を特徴量とする\n",
    "y = df['label']\n",
    "\n",
    "# データをトレーニングセットとテストセットに分割\n",
    "X_train, X_test, y_train, y_test = train_test_split(X, y, test_size=0.2, random_state=42)\n",
    "\n",
    "# ランダムフォレスト分類器を初期化\n",
    "# 必要に応じて他のハイパーパラメータを調整できます\n",
    "model = RandomForestClassifier(n_estimators=100, random_state=42)\n",
    "\n",
    "# モデルをトレーニング\n",
    "model.fit(X_train, y_train)\n",
    "\n",
    "# テストデータで予測を行う\n",
    "y_pred = model.predict(X_test)\n",
    "\n",
    "# 正解率を評価\n",
    "accuracy = accuracy_score(y_test, y_pred)\n",
    "print(f'モデルの正解率: {accuracy:.2f}')\n",
    "\n",
    "#モデルの保存\n",
    "joblib.dump(model, 'hand_gesture_model.pkl')\n",
    "print('モデルを保存しました。')\n",
    "\n"
   ]
  },
  {
   "cell_type": "code",
   "execution_count": null,
   "id": "e871c639-5461-44db-9cd4-a5ee35d169ae",
   "metadata": {},
   "outputs": [],
   "source": [
    "!pip install tensorflow\n"
   ]
  },
  {
   "cell_type": "code",
   "execution_count": null,
   "id": "60324de8-265b-491d-92ba-e7f040c58662",
   "metadata": {},
   "outputs": [],
   "source": [
    "import tensorflow as tf\n",
    "from tensorflow import keras\n",
    "from sklearn.preprocessing import LabelEncoder\n",
    "\n",
    "# ラベルを数値に変換（One-Hot Encoding も可能）\n",
    "label_encoder = LabelEncoder()\n",
    "df['label'] = label_encoder.fit_transform(df['label'])\n",
    "\n",
    "# 特徴量とラベルを分割\n",
    "X = df.iloc[:, 1:].values  # 最初の列（label）以外を特徴量とする\n",
    "y = df['label'].values\n",
    "\n",
    "# データをトレーニングセットとテストセットに分割\n",
    "X_train, X_test, y_train, y_test = train_test_split(X, y, test_size=0.2, random_state=42)\n",
    "\n",
    "# モデルの定義（MLP）\n",
    "model = keras.Sequential([\n",
    "    keras.layers.Dense(128, activation='relu', input_shape=(X_train.shape[1],)),  # 入力層\n",
    "    keras.layers.Dense(64, activation='relu'),  # 隠れ層\n",
    "    keras.layers.Dense(32, activation='relu'),  # 隠れ層\n",
    "    keras.layers.Dense(len(np.unique(y)), activation='softmax')  # 出力層（分類クラス数に対応）\n",
    "])\n",
    "\n",
    "# モデルのコンパイル\n",
    "model.compile(optimizer='adam',\n",
    "              loss='sparse_categorical_crossentropy',\n",
    "              metrics=['accuracy'])\n",
    "\n",
    "# モデルの学習\n",
    "history = model.fit(X_train, y_train, epochs=50, batch_size=32, validation_data=(X_test, y_test))\n",
    "\n",
    "# テストデータでの評価\n",
    "y_pred = np.argmax(model.predict(X_test), axis=1)\n",
    "accuracy = accuracy_score(y_test, y_pred)\n",
    "print(f'モデルの正解率: {accuracy:.2f}')\n",
    "\n",
    "# モデルの保存（TensorFlow形式）\n",
    "model.save('hand_gesture_model.h5')\n",
    "print('モデルを保存しました。')\n",
    "\n",
    "# ラベルエンコーダの保存\n",
    "joblib.dump(label_encoder, 'label_encoder.pkl')\n"
   ]
  },
  {
   "cell_type": "code",
   "execution_count": null,
   "id": "91c61ecc-63dd-4b5d-9d89-43e70c0fd21b",
   "metadata": {},
   "outputs": [],
   "source": []
  }
 ],
 "metadata": {
  "kernelspec": {
   "display_name": "Python [conda env:base] *",
   "language": "python",
   "name": "conda-base-py"
  },
  "language_info": {
   "codemirror_mode": {
    "name": "ipython",
    "version": 3
   },
   "file_extension": ".py",
   "mimetype": "text/x-python",
   "name": "python",
   "nbconvert_exporter": "python",
   "pygments_lexer": "ipython3",
   "version": "3.12.7"
  }
 },
 "nbformat": 4,
 "nbformat_minor": 5
}
